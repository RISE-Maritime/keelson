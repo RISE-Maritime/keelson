{
 "cells": [
  {
   "cell_type": "markdown",
   "metadata": {},
   "source": [
    "# Keelson Experiments"
   ]
  },
  {
   "cell_type": "code",
   "execution_count": 5,
   "metadata": {},
   "outputs": [
    {
     "name": "stdout",
     "output_type": "stream",
     "text": [
      "The autoreload extension is already loaded. To reload it, use:\n",
      "  %reload_ext autoreload\n"
     ]
    }
   ],
   "source": [
    "%load_ext autoreload\n",
    "%autoreload 2\n",
    "\n",
    "\n",
    "import time\n",
    "import json\n",
    "import keelson\n",
    "\n",
    "from keelson.payloads.Primitives_pb2 import TimestampedFloat\n",
    "from keelson.payloads.Primitives_pb2 import TimestampedString\n",
    "\n",
    "from keelson.payloads.Target_pb2 import Target\n",
    "\n",
    "from keelson.payloads.TestB_pb2 import TestB"
   ]
  },
  {
   "cell_type": "code",
   "execution_count": 6,
   "metadata": {},
   "outputs": [
    {
     "data": {
      "text/plain": []
     },
     "execution_count": 6,
     "metadata": {},
     "output_type": "execute_result"
    }
   ],
   "source": [
    "TestB()\n",
    "Target()"
   ]
  },
  {
   "cell_type": "markdown",
   "metadata": {},
   "source": []
  },
  {
   "cell_type": "code",
   "execution_count": 6,
   "metadata": {},
   "outputs": [
    {
     "data": {
      "text/plain": [
       "'realm/v0/entity_id/rpc/procedure/subject_in/subject_out/source_id'"
      ]
     },
     "execution_count": 6,
     "metadata": {},
     "output_type": "execute_result"
    }
   ],
   "source": [
    "keelson.construct_rpc_key(\n",
    "          realm=\"realm\",\n",
    "          entity_id=\"entity_id\",\n",
    "          procedure=\"procedure\",\n",
    "          subject_in=\"subject_in\",\n",
    "          subject_out=\"subject_out\",\n",
    "          source_id=\"source_id\",\n",
    "      )"
   ]
  },
  {
   "cell_type": "code",
   "execution_count": 7,
   "metadata": {},
   "outputs": [
    {
     "name": "stdout",
     "output_type": "stream",
     "text": [
      "enclosed_at {\n",
      "  seconds: 1727944254\n",
      "  nanos: 894542295\n",
      "}\n",
      "payload: \"test\"\n",
      "\n"
     ]
    },
    {
     "data": {
      "text/plain": [
       "{'received_at': 1727944254895117959,\n",
       " 'enclosed_at': 1727944254894542295,\n",
       " 'source_timestamp': None,\n",
       " 'payload': b'test'}"
      ]
     },
     "execution_count": 7,
     "metadata": {},
     "output_type": "execute_result"
    }
   ],
   "source": [
    "test = b\"test\"\n",
    "\n",
    "message = keelson.enclose(payload=test)\n",
    "envelop_object = keelson.uncover(message)\n",
    "\n",
    "envelop_object"
   ]
  },
  {
   "cell_type": "code",
   "execution_count": 13,
   "metadata": {},
   "outputs": [
    {
     "name": "stdout",
     "output_type": "stream",
     "text": [
      "enclosed_at {\n",
      "  seconds: 1727944587\n",
      "  nanos: 492766346\n",
      "}\n",
      "payload: \"\\n\\014\\010\\213\\257\\371\\267\\006\\020\\276\\233\\370\\352\\001\\025\\303\\365H@\"\n",
      "\n"
     ]
    },
    {
     "ename": "TypeError",
     "evalue": "'TimestampedFloat' object is not subscriptable",
     "output_type": "error",
     "traceback": [
      "\u001b[0;31m---------------------------------------------------------------------------\u001b[0m",
      "\u001b[0;31mTypeError\u001b[0m                                 Traceback (most recent call last)",
      "Cell \u001b[0;32mIn[13], line 9\u001b[0m\n\u001b[1;32m      6\u001b[0m envelope_obj \u001b[38;5;241m=\u001b[39m keelson\u001b[38;5;241m.\u001b[39muncover(message)\n\u001b[1;32m      7\u001b[0m content \u001b[38;5;241m=\u001b[39m TimestampedFloat\u001b[38;5;241m.\u001b[39mFromString(envelope_obj[\u001b[38;5;124m\"\u001b[39m\u001b[38;5;124mpayload\u001b[39m\u001b[38;5;124m\"\u001b[39m])\n\u001b[0;32m----> 9\u001b[0m \u001b[38;5;28;01massert\u001b[39;00m \u001b[43mdata\u001b[49m\u001b[43m[\u001b[49m\u001b[38;5;124;43m\"\u001b[39;49m\u001b[38;5;124;43mvalue\u001b[39;49m\u001b[38;5;124;43m\"\u001b[39;49m\u001b[43m]\u001b[49m \u001b[38;5;241m==\u001b[39m content\u001b[38;5;241m.\u001b[39mvalue\n\u001b[1;32m     10\u001b[0m \u001b[38;5;28;01massert\u001b[39;00m data[\u001b[38;5;124m\"\u001b[39m\u001b[38;5;124mtimestamp\u001b[39m\u001b[38;5;124m\"\u001b[39m] \u001b[38;5;241m==\u001b[39m content\u001b[38;5;241m.\u001b[39mtimestamp\n\u001b[1;32m     11\u001b[0m \u001b[38;5;28;01massert\u001b[39;00m envelope_obj[\u001b[38;5;124m\"\u001b[39m\u001b[38;5;124menclosed_at\u001b[39m\u001b[38;5;124m\"\u001b[39m] \u001b[38;5;241m>\u001b[39m\u001b[38;5;241m=\u001b[39m content\u001b[38;5;241m.\u001b[39mtimestamp\u001b[38;5;241m.\u001b[39mToNanoseconds()\n",
      "\u001b[0;31mTypeError\u001b[0m: 'TimestampedFloat' object is not subscriptable"
     ]
    }
   ],
   "source": [
    "data = TimestampedFloat()\n",
    "data.timestamp.FromNanoseconds(time.time_ns())\n",
    "data.value = 3.14\n",
    "\n",
    "message = keelson.enclose(data.SerializeToString())\n",
    "envelope_obj = keelson.uncover(message)\n",
    "content = TimestampedFloat.FromString(envelope_obj[\"payload\"])\n",
    "\n",
    "assert data[\"value\"] == content.value\n",
    "assert data[\"timestamp\"] == content.timestamp\n",
    "assert envelope_obj[\"enclosed_at\"] >= content.timestamp.ToNanoseconds()\n",
    "assert envelope_obj[\"received_at\"] >= envelope_obj.enclosed_at"
   ]
  },
  {
   "cell_type": "code",
   "execution_count": null,
   "metadata": {},
   "outputs": [],
   "source": [
    "with open('subjects.md', 'r') as file:\n",
    "  subjects_content = file.read()\n",
    "\n",
    "print(subjects_content)"
   ]
  },
  {
   "cell_type": "code",
   "execution_count": null,
   "metadata": {},
   "outputs": [],
   "source": []
  }
 ],
 "metadata": {
  "kernelspec": {
   "display_name": "Python 3",
   "language": "python",
   "name": "python3"
  },
  "language_info": {
   "codemirror_mode": {
    "name": "ipython",
    "version": 3
   },
   "file_extension": ".py",
   "mimetype": "text/x-python",
   "name": "python",
   "nbconvert_exporter": "python",
   "pygments_lexer": "ipython3",
   "version": "3.12.8"
  }
 },
 "nbformat": 4,
 "nbformat_minor": 2
}
